{
 "cells": [
  {
   "cell_type": "code",
   "execution_count": 3,
   "metadata": {},
   "outputs": [],
   "source": [
    "# Load testing and training data. \n",
    "import numpy as np\n",
    "from sklearn.model_selection import train_test_split\n",
    "from sklearn.metrics import accuracy_score, precision_score, recall_score\n",
    "\n",
    "# Load data from disk and split into training and validation sets.\n",
    "data = np.loadtxt('data/credit-data.csv', dtype=np.int, delimiter=',', skiprows=1)\n",
    "X, y = data[:, 1:-1], data[:, -1]\n",
    "X_train, X_test, y_train, y_test = train_test_split(X, y, random_state=42)\n"
   ]
  },
  {
   "cell_type": "code",
   "execution_count": 4,
   "metadata": {},
   "outputs": [
    {
     "name": "stderr",
     "output_type": "stream",
     "text": [
      "C:\\ProgramData\\Anaconda3\\lib\\site-packages\\sklearn\\ensemble\\weight_boosting.py:29: DeprecationWarning: numpy.core.umath_tests is an internal NumPy module and should not be imported. It will be removed in a future NumPy release.\n",
      "  from numpy.core.umath_tests import inner1d\n"
     ]
    }
   ],
   "source": [
    "import numpy as np\n",
    "from sklearn.ensemble import GradientBoostingClassifier\n",
    "\n",
    "learn = GradientBoostingClassifier()\n",
    "\n",
    "class CreditModelGBC:\n",
    "    def __init__(self):\n",
    "        \"\"\"\n",
    "        Instantiates the model object, creating class variables if needed.\n",
    "        \"\"\"\n",
    "        learn = GradientBoostingClassifier(n_estimators = 1000, learning_rate=1.0, max_depth=1, random_state=0)\n",
    "\n",
    "\n",
    "    def fit(self, X_train, y_train):\n",
    "        \"\"\"\n",
    "        Fits the model based on the given `X_train` and `y_train`.\n",
    "\n",
    "        You should somehow manipulate and store this data to your model class\n",
    "        so that you can make predictions on new testing data later on.\n",
    "        \"\"\"\n",
    "\n",
    "        # TODO: Fit your model based on the given X and y.\n",
    "\n",
    "        learn.fit(X_train, y_train)\n",
    "\n",
    "    def predict(self, X_test):\n",
    "        \"\"\"\n",
    "        Returns `y_hat`, a prediction for a given `X_test` after fitting.\n",
    "\n",
    "        You should make use of the data that you stored/computed in the\n",
    "        fitting phase to make your prediction on this new testing data.\n",
    "        \"\"\"\n",
    "\n",
    "        # TODO: Predict on `X_test` based on what you learned in the fit phase.\n",
    "        return learn.predict(X_test)\n",
    "   \n"
   ]
  },
  {
   "cell_type": "code",
   "execution_count": 5,
   "metadata": {},
   "outputs": [
    {
     "name": "stdout",
     "output_type": "stream",
     "text": [
      "Accuracy:  82.067%\n",
      "Precision: 66.023%\n",
      "Recall:    35.710%\n"
     ]
    }
   ],
   "source": [
    "model = CreditModelGBC()\n",
    "model.fit(X_train, y_train)\n",
    "y_hat = model.predict(X_test)\n",
    "y_hat = np.rint(np.squeeze(y_hat)).astype(int)\n",
    "assert len(y_hat) == len(X_test)\n",
    "\n",
    "# Print out accuracy/precision/recall scores.\n",
    "print(\"Accuracy:  {:06.3f}%\".format(100 * accuracy_score(y_test, y_hat)))\n",
    "print(\"Precision: {:06.3f}%\".format(100 * precision_score(y_test, y_hat)))\n",
    "print(\"Recall:    {:06.3f}%\".format(100 * recall_score(y_test, y_hat)))"
   ]
  },
  {
   "cell_type": "code",
   "execution_count": 6,
   "metadata": {
    "scrolled": false
   },
   "outputs": [
    {
     "data": {
      "text/plain": [
       "<Figure size 700x400 with 1 Axes>"
      ]
     },
     "metadata": {},
     "output_type": "display_data"
    }
   ],
   "source": [
    "import matplotlib.pyplot as plt\n",
    "import pandas as pd\n",
    "import seaborn as sns\n",
    "\n",
    "predictors = [  'LIMIT_BAL', 'SEX', 'EDUCATION', 'MARRIAGE', 'AGE', \n",
    "                'PAY_0', 'PAY_2', 'PAY_3', 'PAY_4', 'PAY_5', 'PAY_6', \n",
    "                'BILL_AMT1','BILL_AMT2', 'BILL_AMT3', 'BILL_AMT4', 'BILL_AMT5', 'BILL_AMT6',\n",
    "                'PAY_AMT1', 'PAY_AMT2', 'PAY_AMT3', 'PAY_AMT4', 'PAY_AMT5', 'PAY_AMT6']\n",
    "\n",
    "\n",
    "learn = GradientBoostingClassifier(n_estimators = 1000, learning_rate=1.0, max_depth=1, random_state=0)\n",
    "\n",
    "learn.fit(X,y)\n",
    "\n",
    "tmp = pd.DataFrame({'Feature': predictors, 'Feature importance': learn.feature_importances_})\n",
    "tmp = tmp.sort_values(by='Feature importance',ascending=False)\n",
    "plt.figure(figsize = (7,4))\n",
    "plt.title('Features importance',fontsize=14)\n",
    "s = sns.barplot(x='Feature',y='Feature importance',data=tmp)\n",
    "s.set_xticklabels(s.get_xticklabels(),rotation=90)\n",
    "plt.show()   "
   ]
  },
  {
   "cell_type": "code",
   "execution_count": 7,
   "metadata": {},
   "outputs": [
    {
     "data": {
      "image/png": "[encoded data removed]",
      "text/plain": [
       "<Figure size 504x288 with 1 Axes>"
      ]
     },
     "metadata": {
      "needs_background": "light"
     },
     "output_type": "display_data"
    }
   ],
   "source": [
    "import pandas as pd\n",
    "from sklearn.ensemble import RandomForestClassifier\n",
    "import matplotlib.pyplot as plt\n",
    "import seaborn as sns\n",
    "\n",
    "\n",
    "predictors = [  'LIMIT_BAL', 'SEX', 'EDUCATION', 'MARRIAGE', 'AGE', \n",
    "                'PAY_0', 'PAY_2', 'PAY_3', 'PAY_4', 'PAY_5', 'PAY_6', \n",
    "                'BILL_AMT1','BILL_AMT2', 'BILL_AMT3', 'BILL_AMT4', 'BILL_AMT5', 'BILL_AMT6',\n",
    "                'PAY_AMT1', 'PAY_AMT2', 'PAY_AMT3', 'PAY_AMT4', 'PAY_AMT5', 'PAY_AMT6']\n",
    "\n",
    "learn2 = RandomForestClassifier(n_estimators = 100, random_state=0)\n",
    "\n",
    "learn2.fit(X,y)\n",
    "\n",
    "tmp = pd.DataFrame({'Feature': predictors, 'Feature importance': learn2.feature_importances_})\n",
    "tmp = tmp.sort_values(by='Feature importance',ascending=False)\n",
    "plt.figure(figsize = (7,4))\n",
    "plt.title('Features importance',fontsize=14)\n",
    "s = sns.barplot(x='Feature',y='Feature importance',data=tmp)\n",
    "s.set_xticklabels(s.get_xticklabels(),rotation=90)\n",
    "plt.show()  "
   ]
  },
  {
   "cell_type": "code",
   "execution_count": 8,
   "metadata": {},
   "outputs": [],
   "source": [
    "import numpy as np\n",
    "from sklearn.ensemble import RandomForestClassifier\n",
    "\n",
    "learn = RandomForestClassifier()\n",
    "\n",
    "class CreditModelRFC:\n",
    "    def __init__(self):\n",
    "        \"\"\"\n",
    "        Instantiates the model object, creating class variables if needed.\n",
    "        \"\"\"\n",
    "        learn = RandomForestClassifier(n_estimators = 100, random_state=0)\n",
    "\n",
    "    def fit(self, X_train, y_train):\n",
    "        \"\"\"\n",
    "        Fits the model based on the given `X_train` and `y_train`.\n",
    "\n",
    "        You should somehow manipulate and store this data to your model class\n",
    "        so that you can make predictions on new testing data later on.\n",
    "        \"\"\"\n",
    "\n",
    "        # TODO: Fit your model based on the given X and y.\n",
    "\n",
    "        learn.fit(X_train, y_train)\n",
    "\n",
    "    def predict(self, X_test):\n",
    "        \"\"\"\n",
    "        Returns `y_hat`, a prediction for a given `X_test` after fitting.\n",
    "\n",
    "        You should make use of the data that you stored/computed in the\n",
    "        fitting phase to make your prediction on this new testing data.\n",
    "        \"\"\"\n",
    "\n",
    "        # TODO: Predict on `X_test` based on what you learned in the fit phase.\n",
    "        return learn.predict(X_test)\n",
    "   \n"
   ]
  },
  {
   "cell_type": "code",
   "execution_count": 9,
   "metadata": {},
   "outputs": [
    {
     "name": "stdout",
     "output_type": "stream",
     "text": [
      "Accuracy:  80.307%\n",
      "Precision: 58.741%\n",
      "Recall:    30.977%\n"
     ]
    }
   ],
   "source": [
    "model = CreditModelRFC()\n",
    "model.fit(X_train, y_train)\n",
    "y_hat = model.predict(X_test)\n",
    "y_hat = np.rint(np.squeeze(y_hat)).astype(int)\n",
    "assert len(y_hat) == len(X_test)\n",
    "\n",
    "# Print out accuracy/precision/recall scores.\n",
    "print(\"Accuracy:  {:06.3f}%\".format(100 * accuracy_score(y_test, y_hat)))\n",
    "print(\"Precision: {:06.3f}%\".format(100 * precision_score(y_test, y_hat)))\n",
    "print(\"Recall:    {:06.3f}%\".format(100 * recall_score(y_test, y_hat)))"
   ]
  },
  {
   "cell_type": "code",
   "execution_count": 10,
   "metadata": {},
   "outputs": [
    {
     "name": "stdout",
     "output_type": "stream",
     "text": [
      "Accuracy:  80.307%\n",
      "Precision: 58.741%\n",
      "Recall:    30.977%\n"
     ]
    },
    {
     "data": {
      "image/png": "[encoded data removed]",
      "text/plain": [
       "<Figure size 504x288 with 1 Axes>"
      ]
     },
     "metadata": {
      "needs_background": "light"
     },
     "output_type": "display_data"
    }
   ],
   "source": [
    "from sklearn.ensemble import AdaBoostClassifier\n",
    "\n",
    "modelABC = AdaBoostClassifier(random_state=0, algorithm='SAMME.R',learning_rate=0.8,\n",
    "                      n_estimators=100)\n",
    "\n",
    "modelABC.fit(X_train, y_train)\n",
    "y_hat = model.predict(X_test)\n",
    "y_hat = np.rint(np.squeeze(y_hat)).astype(int)\n",
    "assert len(y_hat) == len(X_test)\n",
    "\n",
    "# Print out accuracy/precision/recall scores.\n",
    "print(\"Accuracy:  {:06.3f}%\".format(100 * accuracy_score(y_test, y_hat)))\n",
    "print(\"Precision: {:06.3f}%\".format(100 * precision_score(y_test, y_hat)))\n",
    "print(\"Recall:    {:06.3f}%\".format(100 * recall_score(y_test, y_hat)))\n",
    "\n",
    "\n",
    "tmp = pd.DataFrame({'Feature': predictors, 'Feature importance': modelABC.feature_importances_})\n",
    "tmp = tmp.sort_values(by='Feature importance',ascending=False)\n",
    "plt.figure(figsize = (7,4))\n",
    "plt.title('Features importance',fontsize=14)\n",
    "s = sns.barplot(x='Feature',y='Feature importance',data=tmp)\n",
    "s.set_xticklabels(s.get_xticklabels(),rotation=90)\n",
    "plt.show()  "
   ]
  },
  {
   "cell_type": "code",
   "execution_count": 11,
   "metadata": {},
   "outputs": [
    {
     "name": "stdout",
     "output_type": "stream",
     "text": [
      "0:\ttotal: 1.7s\tremaining: 14m 7s\n",
      "50:\ttotal: 1m\tremaining: 8m 50s\n",
      "100:\ttotal: 1m 44s\tremaining: 6m 53s\n",
      "150:\ttotal: 2m 29s\tremaining: 5m 45s\n",
      "200:\ttotal: 3m 13s\tremaining: 4m 47s\n",
      "250:\ttotal: 3m 57s\tremaining: 3m 56s\n",
      "300:\ttotal: 4m 43s\tremaining: 3m 7s\n",
      "350:\ttotal: 5m 29s\tremaining: 2m 19s\n",
      "400:\ttotal: 6m 4s\tremaining: 1m 30s\n",
      "450:\ttotal: 6m 44s\tremaining: 43.9s\n",
      "499:\ttotal: 7m 15s\tremaining: 0us\n",
      "Accuracy:  82.067%\n",
      "Precision: 66.133%\n",
      "Recall:    35.526%\n"
     ]
    },
    {
     "data": {
      "image/png": "[encoded data removed]",
      "text/plain": [
       "<Figure size 504x288 with 1 Axes>"
      ]
     },
     "metadata": {
      "needs_background": "light"
     },
     "output_type": "display_data"
    }
   ],
   "source": [
    "from catboost import CatBoostClassifier\n",
    "\n",
    "modelCBC = CatBoostClassifier(iterations=500,\n",
    "                             learning_rate=0.02,\n",
    "                             depth=12,\n",
    "                             eval_metric='AUC',\n",
    "                             random_seed = 0,\n",
    "                             bagging_temperature = 0.2,\n",
    "                             od_type='Iter',\n",
    "                             metric_period = 50,\n",
    "                             od_wait=100)\n",
    "\n",
    "modelCBC.fit(X_train, y_train)\n",
    "y_hat = modelCBC.predict(X_test)\n",
    "y_hat = np.rint(np.squeeze(y_hat)).astype(int)\n",
    "assert len(y_hat) == len(X_test)\n",
    "\n",
    "# Print out accuracy/precision/recall scores.\n",
    "print(\"Accuracy:  {:06.3f}%\".format(100 * accuracy_score(y_test, y_hat)))\n",
    "print(\"Precision: {:06.3f}%\".format(100 * precision_score(y_test, y_hat)))\n",
    "print(\"Recall:    {:06.3f}%\".format(100 * recall_score(y_test, y_hat)))\n",
    "\n",
    "\n",
    "tmp = pd.DataFrame({'Feature': predictors, 'Feature importance': modelCBC.feature_importances_})\n",
    "tmp = tmp.sort_values(by='Feature importance',ascending=False)\n",
    "plt.figure(figsize = (7,4))\n",
    "plt.title('Features importance',fontsize=14)\n",
    "s = sns.barplot(x='Feature',y='Feature importance',data=tmp)\n",
    "s.set_xticklabels(s.get_xticklabels(),rotation=90)\n",
    "plt.show()  "
   ]
  },
  {
   "cell_type": "code",
   "execution_count": null,
   "metadata": {},
   "outputs": [],
   "source": []
  },
  {
   "cell_type": "code",
   "execution_count": null,
   "metadata": {},
   "outputs": [],
   "source": []
  }
 ],
 "metadata": {
  "kernelspec": {
   "display_name": "Python 3",
   "language": "python",
   "name": "python3"
  }
 },
 "nbformat": 4,
 "nbformat_minor": 2
}
